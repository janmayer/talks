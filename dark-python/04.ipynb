{
 "cells": [
  {
   "cell_type": "markdown",
   "metadata": {},
   "source": [
    "# 4. ████████"
   ]
  },
  {
   "cell_type": "code",
   "execution_count": 1,
   "metadata": {},
   "outputs": [
    {
     "name": "stdout",
     "output_type": "stream",
     "text": [
      "[1]\n",
      "[1, 2]\n",
      "[1, 2, 3]\n"
     ]
    }
   ],
   "source": [
    "\n",
    "def append_to_list(value, lst=[]):\n",
    "    lst.append(value)\n",
    "    return lst\n",
    "\n",
    "print(append_to_list(1))\n",
    "print(append_to_list(2))\n",
    "print(append_to_list(3))"
   ]
  },
  {
   "cell_type": "code",
   "execution_count": 10,
   "metadata": {},
   "outputs": [
    {
     "name": "stdout",
     "output_type": "stream",
     "text": [
      "5\n"
     ]
    }
   ],
   "source": [
    "\n",
    "class CursedNumber:\n",
    "    def __init__(self, number):\n",
    "        self.number = number\n",
    "\n",
    "    def __add__(self, other):\n",
    "        return self.number - other.number\n",
    "\n",
    "num1 = CursedNumber(10)\n",
    "num2 = CursedNumber(5)\n",
    "print(num1 + num2)"
   ]
  },
  {
   "cell_type": "code",
   "execution_count": 19,
   "metadata": {},
   "outputs": [
    {
     "name": "stdout",
     "output_type": "stream",
     "text": [
      "Intersecting realities\n",
      "Merging dimensions\n",
      "Inverting existence\n"
     ]
    }
   ],
   "source": [
    "\n",
    "class LogicalMadness:\n",
    "    def __and__(self, other):\n",
    "        return \"Intersecting realities\"\n",
    "\n",
    "    def __or__(self, other):\n",
    "        return \"Merging dimensions\"\n",
    "\n",
    "    def __invert__(self):\n",
    "        return \"Inverting existence\"\n",
    "\n",
    "obj = LogicalMadness()\n",
    "print(obj & None)\n",
    "print(obj | None)\n",
    "print(~obj)"
   ]
  },
  {
   "cell_type": "code",
   "execution_count": 7,
   "metadata": {},
   "outputs": [
    {
     "name": "stdout",
     "output_type": "stream",
     "text": [
      "Instance has been called 1 times.\n",
      "Instance has been called 2 times.\n",
      "Instance has been called 3 times.\n",
      "Instance has been called 4 times.\n",
      "Instance has been called 5 times.\n",
      "Instance has been called 6 times.\n",
      "Instance has been called 7 times.\n",
      "Instance has been called 8 times.\n",
      "Instance has been called 9 times.\n",
      "Instance has been called 10 times.\n",
      "Instance has been called 11 times.\n",
      "Instance has been called 12 times.\n",
      "Instance has been called 13 times.\n",
      "Instance has been called 14 times.\n",
      "Instance has been called 15 times.\n",
      "Instance has been called 16 times.\n",
      "Instance has been called 17 times.\n",
      "Instance has been called 18 times.\n",
      "Instance has been called 19 times.\n",
      "Instance has been called 20 times.\n",
      "Instance has been called 21 times.\n",
      "Instance has been called 22 times.\n",
      "Instance has been called 23 times.\n",
      "Instance has been called 24 times.\n",
      "Instance has been called 25 times.\n",
      "Instance has been called 26 times.\n",
      "Instance has been called 27 times.\n"
     ]
    }
   ],
   "source": [
    "\n",
    "class ChainedCalls:\n",
    "    def __init__(self):\n",
    "        self.times_called = 0\n",
    "\n",
    "    def __call__(self):\n",
    "        self.times_called += 1\n",
    "        print(f\"Instance has been called {self.times_called} times.\")\n",
    "        return self\n",
    "\n",
    "ChainedCalls()()()()()()()()()()()()()()()()()()()()()()()()()()()();"
   ]
  },
  {
   "cell_type": "code",
   "execution_count": null,
   "metadata": {},
   "outputs": [],
   "source": [
    "\n",
    "class SelfDestructingClass:\n",
    "    instances_created = 0\n",
    "    max_instances = 3\n",
    "\n",
    "    def __new__(cls):\n",
    "        if cls.instances_created >= cls.max_instances:\n",
    "            raise RuntimeError(\"No more instances allowed!\")\n",
    "        cls.instances_created += 1\n",
    "        return super().__new__(cls)\n",
    "\n",
    "instance1 = SelfDestructingClass()\n",
    "instance2 = SelfDestructingClass()\n",
    "instance3 = SelfDestructingClass()\n",
    "instance4 = SelfDestructingClass()"
   ]
  },
  {
   "cell_type": "code",
   "execution_count": 21,
   "metadata": {},
   "outputs": [
    {
     "name": "stdout",
     "output_type": "stream",
     "text": [
      "[1, 2, 3]\n",
      "[3, 2, 1]\n",
      "[1, 2, 3]\n"
     ]
    }
   ],
   "source": [
    "\n",
    "class ChangingIterator:\n",
    "    def __init__(self):\n",
    "        self.data = [1, 2, 3]\n",
    "\n",
    "    def __iter__(self):\n",
    "        for item in self.data:\n",
    "            yield item\n",
    "        self.data = self.data[::-1]\n",
    "\n",
    "iter_obj = ChangingIterator()\n",
    "print(list(iter_obj))\n",
    "print(list(iter_obj))\n",
    "print(list(iter_obj))"
   ]
  },
  {
   "cell_type": "code",
   "execution_count": 23,
   "metadata": {},
   "outputs": [
    {
     "name": "stdout",
     "output_type": "stream",
     "text": [
      "👻\n"
     ]
    },
    {
     "ename": "AttributeError",
     "evalue": "'GhostAttributes' object has no attribute 'ghost'",
     "output_type": "error",
     "traceback": [
      "\u001b[0;31m---------------------------------------------------------------------------\u001b[0m",
      "\u001b[0;31mAttributeError\u001b[0m                            Traceback (most recent call last)",
      "Cell \u001b[0;32mIn[23], line 12\u001b[0m\n\u001b[1;32m     10\u001b[0m ghost \u001b[38;5;241m=\u001b[39m GhostAttributes()\n\u001b[1;32m     11\u001b[0m \u001b[38;5;28mprint\u001b[39m(ghost\u001b[38;5;241m.\u001b[39mghost)\n\u001b[0;32m---> 12\u001b[0m \u001b[38;5;28mprint\u001b[39m(\u001b[43mghost\u001b[49m\u001b[38;5;241;43m.\u001b[39;49m\u001b[43mghost\u001b[49m)\n",
      "Cell \u001b[0;32mIn[23], line 6\u001b[0m, in \u001b[0;36mGhostAttributes.__getattribute__\u001b[0;34m(self, item)\u001b[0m\n\u001b[1;32m      5\u001b[0m \u001b[38;5;28;01mdef\u001b[39;00m \u001b[38;5;21m__getattribute__\u001b[39m(\u001b[38;5;28mself\u001b[39m, item):\n\u001b[0;32m----> 6\u001b[0m     value \u001b[38;5;241m=\u001b[39m \u001b[38;5;28;43msuper\u001b[39;49m\u001b[43m(\u001b[49m\u001b[43m)\u001b[49m\u001b[38;5;241;43m.\u001b[39;49m\u001b[38;5;21;43m__getattribute__\u001b[39;49m\u001b[43m(\u001b[49m\u001b[43mitem\u001b[49m\u001b[43m)\u001b[49m\n\u001b[1;32m      7\u001b[0m     \u001b[38;5;28mdelattr\u001b[39m(\u001b[38;5;28mself\u001b[39m, item)\n\u001b[1;32m      8\u001b[0m     \u001b[38;5;28;01mreturn\u001b[39;00m value\n",
      "\u001b[0;31mAttributeError\u001b[0m: 'GhostAttributes' object has no attribute 'ghost'"
     ]
    }
   ],
   "source": [
    "\n",
    "class GhostAttributes:\n",
    "    def __init__(self):\n",
    "        self.ghost = \"👻\"\n",
    "\n",
    "    def __getattribute__(self, item):\n",
    "        value = super().__getattribute__(item)\n",
    "        delattr(self, item)\n",
    "        return value\n",
    "\n",
    "ghost = GhostAttributes()\n",
    "print(ghost.ghost)\n",
    "print(ghost.ghost)"
   ]
  },
  {
   "cell_type": "code",
   "execution_count": 17,
   "metadata": {},
   "outputs": [
    {
     "name": "stdout",
     "output_type": "stream",
     "text": [
      "True\n"
     ]
    }
   ],
   "source": [
    "\n",
    "class MetaInstance(type):\n",
    "    def __call__(cls):\n",
    "        return cls\n",
    "\n",
    "class CursedClass(metaclass=MetaInstance):\n",
    "    pass\n",
    "\n",
    "print(CursedClass() == CursedClass)"
   ]
  },
  {
   "cell_type": "code",
   "execution_count": 12,
   "metadata": {},
   "outputs": [
    {
     "name": "stdout",
     "output_type": "stream",
     "text": [
      "[1]\n"
     ]
    }
   ],
   "source": [
    "\n",
    "class MyClass:\n",
    "    def __init__(self):\n",
    "        self.𝗹𝗶𝘀𝘁 = []\n",
    "\n",
    "    def add(self, item):\n",
    "        self.𝗹𝗶𝘀𝘁.append(item)\n",
    "\n",
    "obj = MyClass()\n",
    "obj.add(1)\n",
    "print(obj.list)"
   ]
  },
  {
   "cell_type": "code",
   "execution_count": 18,
   "metadata": {},
   "outputs": [
    {
     "name": "stdout",
     "output_type": "stream",
     "text": [
      "Normal Behavior\n",
      "Nothing to see here\n"
     ]
    }
   ],
   "source": [
    "\n",
    "class BlackMagicMeta(type):\n",
    "    def __new__(cls, name, bases, dct):\n",
    "        if 'act_normal' in dct:\n",
    "            return super().__new__(cls, name, bases, dct)\n",
    "        else:\n",
    "            return super().__new__(cls, name, bases, {'act_normal': lambda self: \"Nothing to see here\"})\n",
    "\n",
    "class CursedClass(metaclass=BlackMagicMeta):\n",
    "    def act_normal(self):\n",
    "        return \"Normal Behavior\"\n",
    "\n",
    "class AnotherCursedClass(metaclass=BlackMagicMeta):\n",
    "    pass\n",
    "\n",
    "print(CursedClass().act_normal())\n",
    "print(AnotherCursedClass().act_normal())"
   ]
  },
  {
   "cell_type": "code",
   "execution_count": null,
   "metadata": {},
   "outputs": [],
   "source": [
    "\n",
    "def circular_function_one():\n",
    "    def circular_function_two():\n",
    "        print(\"Function Two\")\n",
    "        circular_function_one()\n",
    "\n",
    "    print(\"Function One\")\n",
    "    return circular_function_two\n",
    "\n",
    "func = circular_function_one()\n",
    "func()"
   ]
  },
  {
   "cell_type": "code",
   "execution_count": null,
   "metadata": {},
   "outputs": [],
   "source": [
    "\n",
    "def self_altering_function():\n",
    "    print(\"First call, changing now...\")\n",
    "    global self_altering_function\n",
    "    self_altering_function = lambda: print(\"Subsequent call, forever changed.\")\n",
    "\n",
    "self_altering_function()\n",
    "self_altering_function()"
   ]
  },
  {
   "cell_type": "code",
   "execution_count": 13,
   "metadata": {},
   "outputs": [
    {
     "name": "stdout",
     "output_type": "stream",
     "text": [
      "Hello, Alice!\n",
      "!boB ,olleH\n",
      "Hello, Charlie!\n"
     ]
    }
   ],
   "source": [
    "\n",
    "def self_modifying_decorator(func):\n",
    "    def wrapper(*args, **kwargs):\n",
    "        wrapper.count += 1\n",
    "        if wrapper.count % 2 == 0:\n",
    "            return func(*args, **kwargs)[::-1]\n",
    "        return func(*args, **kwargs)\n",
    "    wrapper.count = 0\n",
    "    return wrapper\n",
    "\n",
    "@self_modifying_decorator\n",
    "def say_hello(name):\n",
    "    return f\"Hello, {name}!\"\n",
    "\n",
    "print(say_hello(\"Alice\"))\n",
    "print(say_hello(\"Bob\"))\n",
    "print(say_hello(\"Charlie\"))"
   ]
  },
  {
   "cell_type": "code",
   "execution_count": 8,
   "metadata": {},
   "outputs": [
    {
     "name": "stdout",
     "output_type": "stream",
     "text": [
      "120\n"
     ]
    }
   ],
   "source": [
    "\n",
    "factorial = (lambda f: lambda n: 1 if n == 0 else n * f(f)(n-1))(lambda f: lambda n: 1 if n == 0 else n * f(f)(n-1))\n",
    "\n",
    "print(factorial(5))"
   ]
  },
  {
   "cell_type": "code",
   "execution_count": null,
   "metadata": {},
   "outputs": [],
   "source": []
  }
 ],
 "metadata": {
  "kernelspec": {
   "display_name": "Python 3",
   "language": "python",
   "name": "python3"
  },
  "language_info": {
   "codemirror_mode": {
    "name": "ipython",
    "version": 3
   },
   "file_extension": ".py",
   "mimetype": "text/x-python",
   "name": "python",
   "nbconvert_exporter": "python",
   "pygments_lexer": "ipython3",
   "version": "3.12.0"
  }
 },
 "nbformat": 4,
 "nbformat_minor": 2
}
