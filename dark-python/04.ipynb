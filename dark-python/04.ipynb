{
 "cells": [
  {
   "cell_type": "code",
   "execution_count": 3,
   "metadata": {},
   "outputs": [
    {
     "name": "stdout",
     "output_type": "stream",
     "text": [
      "120\n"
     ]
    }
   ],
   "source": [
    "factorial = (lambda f: lambda n: 1 if n == 0 else n * f(f)(n-1))(lambda f: lambda n: 1 if n == 0 else n * f(f)(n-1))\n",
    "print(factorial(5))  # Outputs 120"
   ]
  },
  {
   "cell_type": "code",
   "execution_count": 6,
   "metadata": {},
   "outputs": [
    {
     "name": "stdout",
     "output_type": "stream",
     "text": [
      "[1]\n",
      "[1, 2]\n",
      "[1, 2, 3]\n"
     ]
    }
   ],
   "source": [
    "def append_to_list(value, lst=[]):\n",
    "    lst.append(value)\n",
    "    return lst\n",
    "\n",
    "print(append_to_list(1))\n",
    "print(append_to_list(2))\n",
    "print(append_to_list(3))\n"
   ]
  },
  {
   "cell_type": "code",
   "execution_count": 2,
   "metadata": {},
   "outputs": [
    {
     "name": "stdout",
     "output_type": "stream",
     "text": [
      "Instance has been called 1 times.\n",
      "Instance has been called 2 times.\n",
      "Instance has been called 3 times.\n",
      "Instance has been called 4 times.\n",
      "Instance has been called 5 times.\n",
      "Instance has been called 6 times.\n",
      "Instance has been called 7 times.\n",
      "Instance has been called 8 times.\n",
      "Instance has been called 9 times.\n",
      "Instance has been called 10 times.\n",
      "Instance has been called 11 times.\n",
      "Instance has been called 12 times.\n",
      "Instance has been called 13 times.\n",
      "Instance has been called 14 times.\n",
      "Instance has been called 15 times.\n",
      "Instance has been called 16 times.\n",
      "Instance has been called 17 times.\n",
      "Instance has been called 18 times.\n"
     ]
    },
    {
     "data": {
      "text/plain": [
       "<__main__.ChainedCalls at 0x10bcfade0>"
      ]
     },
     "execution_count": 2,
     "metadata": {},
     "output_type": "execute_result"
    }
   ],
   "source": [
    "class ChainedCalls:\n",
    "    def __init__(self):\n",
    "        self.times_called = 0\n",
    "\n",
    "    def __call__(self):\n",
    "        self.times_called += 1\n",
    "        print(f\"Instance has been called {self.times_called} times.\")\n",
    "        return self\n",
    "\n",
    "# Usage\n",
    "c = ChainedCalls()\n",
    "c()()()()()()()()()()()()()()()()()()  # Chained calls; each call increments and reports the count"
   ]
  },
  {
   "cell_type": "code",
   "execution_count": 4,
   "metadata": {},
   "outputs": [
    {
     "name": "stdout",
     "output_type": "stream",
     "text": [
      "5\n"
     ]
    }
   ],
   "source": [
    "class CursedNumber:\n",
    "    def __init__(self, number):\n",
    "        self.number = number\n",
    "\n",
    "    def __add__(self, other):\n",
    "        return self.number - other.number\n",
    "\n",
    "num1 = CursedNumber(10)\n",
    "num2 = CursedNumber(5)\n",
    "print(num1 + num2)  # Outputs 5 instead of expected 15"
   ]
  },
  {
   "cell_type": "code",
   "execution_count": 7,
   "metadata": {},
   "outputs": [
    {
     "name": "stdout",
     "output_type": "stream",
     "text": [
      "[1]\n"
     ]
    }
   ],
   "source": [
    "class MyClass:\n",
    "    def __init__(self):\n",
    "        self.𝗹𝗶𝘀𝘁 = []  # Looks like 'list', but isn't\n",
    "\n",
    "    def add(self, item):\n",
    "        self.𝗹𝗶𝘀𝘁.append(item)\n",
    "\n",
    "obj = MyClass()\n",
    "obj.add(1)\n",
    "print(obj.list)  # Raises AttributeError"
   ]
  },
  {
   "cell_type": "code",
   "execution_count": 10,
   "metadata": {},
   "outputs": [
    {
     "name": "stdout",
     "output_type": "stream",
     "text": [
      "Hello, Alice!\n",
      "!boB ,olleH\n",
      "Hello, Charlie!\n"
     ]
    }
   ],
   "source": [
    "def self_modifying_decorator(func):\n",
    "    def wrapper(*args, **kwargs):\n",
    "        wrapper.count += 1\n",
    "        if wrapper.count % 2 == 0:\n",
    "            return func(*args, **kwargs)[::-1]  # Reverse string every second call\n",
    "        return func(*args, **kwargs)\n",
    "    wrapper.count = 0\n",
    "    return wrapper\n",
    "\n",
    "@self_modifying_decorator\n",
    "def say_hello(name):\n",
    "    return f\"Hello, {name}!\"\n",
    "\n",
    "print(say_hello(\"Alice\"))\n",
    "print(say_hello(\"Bob\"))\n",
    "print(say_hello(\"Charlie\"))"
   ]
  },
  {
   "cell_type": "code",
   "execution_count": 26,
   "metadata": {},
   "outputs": [
    {
     "name": "stdout",
     "output_type": "stream",
     "text": [
      "This is not a greeting from CursedClass.\n",
      "Hello\n"
     ]
    }
   ],
   "source": [
    "def cursed_class_factory(name, **attributes):\n",
    "    if \"greet\" not in attributes:\n",
    "        attributes[\"greet\"] = lambda _: f\"This is not a greeting from {name}.\"\n",
    "    return type(name, (object,), attributes)\n",
    "\n",
    "\n",
    "CursedClass = cursed_class_factory(\"CursedClass\", attr1=\"value1\")\n",
    "instance = CursedClass()\n",
    "print(instance.greet())  # Unexpected behavior\n",
    "\n",
    "print(cursed_class_factory(\"UnCursedClass\", attr1=\"value1\", greet=lambda _: \"Hello\")().greet())"
   ]
  },
  {
   "cell_type": "code",
   "execution_count": 22,
   "metadata": {},
   "outputs": [
    {
     "ename": "RecursionError",
     "evalue": "maximum recursion depth exceeded",
     "output_type": "error",
     "traceback": [
      "\u001b[0;31m---------------------------------------------------------------------------\u001b[0m",
      "\u001b[0;31mRecursionError\u001b[0m                            Traceback (most recent call last)",
      "Cell \u001b[0;32mIn[22], line 1\u001b[0m\n\u001b[0;32m----> 1\u001b[0m \u001b[43m(\u001b[49m\u001b[38;5;28;43;01mlambda\u001b[39;49;00m\u001b[43m \u001b[49m\u001b[43mf\u001b[49m\u001b[43m:\u001b[49m\u001b[43m \u001b[49m\u001b[43m(\u001b[49m\u001b[38;5;28;43;01mlambda\u001b[39;49;00m\u001b[43m \u001b[49m\u001b[43mx\u001b[49m\u001b[43m:\u001b[49m\u001b[43m \u001b[49m\u001b[43mf\u001b[49m\u001b[43m(\u001b[49m\u001b[43mf\u001b[49m\u001b[43m)\u001b[49m\u001b[43m(\u001b[49m\u001b[43mx\u001b[49m\u001b[43m)\u001b[49m\u001b[43m)\u001b[49m\u001b[43m)\u001b[49m\u001b[43m(\u001b[49m\u001b[38;5;28;43;01mlambda\u001b[39;49;00m\u001b[43m \u001b[49m\u001b[43mf\u001b[49m\u001b[43m:\u001b[49m\u001b[43m \u001b[49m\u001b[43m(\u001b[49m\u001b[38;5;28;43;01mlambda\u001b[39;49;00m\u001b[43m \u001b[49m\u001b[43mx\u001b[49m\u001b[43m:\u001b[49m\u001b[43m \u001b[49m\u001b[43mf\u001b[49m\u001b[43m(\u001b[49m\u001b[43mf\u001b[49m\u001b[43m)\u001b[49m\u001b[43m(\u001b[49m\u001b[43mx\u001b[49m\u001b[43m)\u001b[49m\u001b[43m)\u001b[49m\u001b[43m)\u001b[49m\u001b[43m(\u001b[49m\u001b[38;5;28;43mprint\u001b[39;49m\u001b[43m)\u001b[49m(\u001b[38;5;124m\"\u001b[39m\u001b[38;5;124mReally Cursed\u001b[39m\u001b[38;5;124m\"\u001b[39m)\n",
      "Cell \u001b[0;32mIn[22], line 1\u001b[0m, in \u001b[0;36m<lambda>\u001b[0;34m(x)\u001b[0m\n\u001b[0;32m----> 1\u001b[0m (\u001b[38;5;28;01mlambda\u001b[39;00m f: (\u001b[38;5;28;01mlambda\u001b[39;00m x: \u001b[43mf\u001b[49m\u001b[43m(\u001b[49m\u001b[43mf\u001b[49m\u001b[43m)\u001b[49m\u001b[43m(\u001b[49m\u001b[43mx\u001b[49m\u001b[43m)\u001b[49m))(\u001b[38;5;28;01mlambda\u001b[39;00m f: (\u001b[38;5;28;01mlambda\u001b[39;00m x: f(f)(x)))(\u001b[38;5;28mprint\u001b[39m)(\u001b[38;5;124m\"\u001b[39m\u001b[38;5;124mReally Cursed\u001b[39m\u001b[38;5;124m\"\u001b[39m)\n",
      "Cell \u001b[0;32mIn[22], line 1\u001b[0m, in \u001b[0;36m<lambda>\u001b[0;34m(x)\u001b[0m\n\u001b[0;32m----> 1\u001b[0m (\u001b[38;5;28;01mlambda\u001b[39;00m f: (\u001b[38;5;28;01mlambda\u001b[39;00m x: f(f)(x)))(\u001b[38;5;28;01mlambda\u001b[39;00m f: (\u001b[38;5;28;01mlambda\u001b[39;00m x: \u001b[43mf\u001b[49m\u001b[43m(\u001b[49m\u001b[43mf\u001b[49m\u001b[43m)\u001b[49m\u001b[43m(\u001b[49m\u001b[43mx\u001b[49m\u001b[43m)\u001b[49m))(\u001b[38;5;28mprint\u001b[39m)(\u001b[38;5;124m\"\u001b[39m\u001b[38;5;124mReally Cursed\u001b[39m\u001b[38;5;124m\"\u001b[39m)\n",
      "Cell \u001b[0;32mIn[22], line 1\u001b[0m, in \u001b[0;36m<lambda>\u001b[0;34m(x)\u001b[0m\n\u001b[0;32m----> 1\u001b[0m (\u001b[38;5;28;01mlambda\u001b[39;00m f: (\u001b[38;5;28;01mlambda\u001b[39;00m x: f(f)(x)))(\u001b[38;5;28;01mlambda\u001b[39;00m f: (\u001b[38;5;28;01mlambda\u001b[39;00m x: \u001b[43mf\u001b[49m\u001b[43m(\u001b[49m\u001b[43mf\u001b[49m\u001b[43m)\u001b[49m\u001b[43m(\u001b[49m\u001b[43mx\u001b[49m\u001b[43m)\u001b[49m))(\u001b[38;5;28mprint\u001b[39m)(\u001b[38;5;124m\"\u001b[39m\u001b[38;5;124mReally Cursed\u001b[39m\u001b[38;5;124m\"\u001b[39m)\n",
      "    \u001b[0;31m[... skipping similar frames: <lambda> at line 1 (2974 times)]\u001b[0m\n",
      "Cell \u001b[0;32mIn[22], line 1\u001b[0m, in \u001b[0;36m<lambda>\u001b[0;34m(x)\u001b[0m\n\u001b[0;32m----> 1\u001b[0m (\u001b[38;5;28;01mlambda\u001b[39;00m f: (\u001b[38;5;28;01mlambda\u001b[39;00m x: f(f)(x)))(\u001b[38;5;28;01mlambda\u001b[39;00m f: (\u001b[38;5;28;01mlambda\u001b[39;00m x: \u001b[43mf\u001b[49m\u001b[43m(\u001b[49m\u001b[43mf\u001b[49m\u001b[43m)\u001b[49m(x)))(\u001b[38;5;28mprint\u001b[39m)(\u001b[38;5;124m\"\u001b[39m\u001b[38;5;124mReally Cursed\u001b[39m\u001b[38;5;124m\"\u001b[39m)\n",
      "\u001b[0;31mRecursionError\u001b[0m: maximum recursion depth exceeded"
     ]
    }
   ],
   "source": [
    "(lambda f: (lambda x: f(f)(x)))(lambda f: (lambda x: f(f)(x)))(print)(\"Really Cursed\")"
   ]
  },
  {
   "cell_type": "code",
   "execution_count": 28,
   "metadata": {},
   "outputs": [
    {
     "name": "stdout",
     "output_type": "stream",
     "text": [
      "True\n"
     ]
    }
   ],
   "source": [
    "class MetaInstance(type):\n",
    "    def __call__(cls):\n",
    "        return cls\n",
    "\n",
    "class CursedClass(metaclass=MetaInstance):\n",
    "    pass\n",
    "\n",
    "print(CursedClass() is CursedClass)"
   ]
  },
  {
   "cell_type": "code",
   "execution_count": 29,
   "metadata": {},
   "outputs": [
    {
     "name": "stdout",
     "output_type": "stream",
     "text": [
      "Normal Behavior\n",
      "Nothing to see here\n"
     ]
    }
   ],
   "source": [
    "class BlackMagicMeta(type):\n",
    "    def __new__(cls, name, bases, dct):\n",
    "        if 'act_normal' in dct:\n",
    "            return super().__new__(cls, name, bases, dct)\n",
    "        else:\n",
    "            return super().__new__(cls, name, bases, {'act_normal': lambda self: \"Nothing to see here\"})\n",
    "\n",
    "class CursedClass(metaclass=BlackMagicMeta):\n",
    "    def act_normal(self):\n",
    "        return \"Normal Behavior\"\n",
    "\n",
    "class AnotherCursedClass(metaclass=BlackMagicMeta):\n",
    "    pass\n",
    "\n",
    "print(CursedClass().act_normal())  # Normal Behavior\n",
    "print(AnotherCursedClass().act_normal())  # Nothing to see here"
   ]
  },
  {
   "cell_type": "code",
   "execution_count": 30,
   "metadata": {},
   "outputs": [
    {
     "name": "stdout",
     "output_type": "stream",
     "text": [
      "First call, changing now...\n",
      "Subsequent call, forever changed.\n"
     ]
    }
   ],
   "source": [
    "def self_altering_function():\n",
    "    print(\"First call, changing now...\")\n",
    "    global self_altering_function\n",
    "    self_altering_function = lambda: print(\"Subsequent call, forever changed.\")\n",
    "\n",
    "self_altering_function()  # First call, changing now...\n",
    "self_altering_function()  # Subsequent call, forever changed.\n"
   ]
  },
  {
   "cell_type": "code",
   "execution_count": 31,
   "metadata": {},
   "outputs": [
    {
     "name": "stdout",
     "output_type": "stream",
     "text": [
      "True\n"
     ]
    }
   ],
   "source": [
    "class ConfusingClass:\n",
    "    def __new__(cls):\n",
    "        instance = super().__new__(cls)\n",
    "        instance.__class__ = type('Subclass', (cls,), {})\n",
    "        return instance\n",
    "\n",
    "obj = ConfusingClass()\n",
    "print(isinstance(obj, ConfusingClass))  # False, it's an instance of its own subclass\n"
   ]
  },
  {
   "cell_type": "code",
   "execution_count": 34,
   "metadata": {},
   "outputs": [
    {
     "name": "stdout",
     "output_type": "stream",
     "text": [
      "Function One\n",
      "Function Two\n",
      "Function One\n"
     ]
    }
   ],
   "source": [
    "def circular_function_one():\n",
    "    def circular_function_two():\n",
    "        print(\"Function Two\")\n",
    "        circular_function_one()\n",
    "\n",
    "    print(\"Function One\")\n",
    "    return circular_function_two\n",
    "\n",
    "func = circular_function_one()\n",
    "func()"
   ]
  },
  {
   "cell_type": "code",
   "execution_count": 36,
   "metadata": {},
   "outputs": [
    {
     "ename": "RuntimeError",
     "evalue": "No more instances allowed!",
     "output_type": "error",
     "traceback": [
      "\u001b[0;31m---------------------------------------------------------------------------\u001b[0m",
      "\u001b[0;31mRuntimeError\u001b[0m                              Traceback (most recent call last)",
      "Cell \u001b[0;32mIn[36], line 15\u001b[0m\n\u001b[1;32m     13\u001b[0m instance2 \u001b[38;5;241m=\u001b[39m SelfDestructingClass()  \u001b[38;5;66;03m# Ok\u001b[39;00m\n\u001b[1;32m     14\u001b[0m instance3 \u001b[38;5;241m=\u001b[39m SelfDestructingClass()  \u001b[38;5;66;03m# Ok\u001b[39;00m\n\u001b[0;32m---> 15\u001b[0m instance4 \u001b[38;5;241m=\u001b[39m \u001b[43mSelfDestructingClass\u001b[49m\u001b[43m(\u001b[49m\u001b[43m)\u001b[49m  \u001b[38;5;66;03m# RuntimeError!\u001b[39;00m\n",
      "Cell \u001b[0;32mIn[36], line 7\u001b[0m, in \u001b[0;36mSelfDestructingClass.__new__\u001b[0;34m(cls)\u001b[0m\n\u001b[1;32m      5\u001b[0m \u001b[38;5;28;01mdef\u001b[39;00m \u001b[38;5;21m__new__\u001b[39m(\u001b[38;5;28mcls\u001b[39m):\n\u001b[1;32m      6\u001b[0m     \u001b[38;5;28;01mif\u001b[39;00m \u001b[38;5;28mcls\u001b[39m\u001b[38;5;241m.\u001b[39minstances_created \u001b[38;5;241m>\u001b[39m\u001b[38;5;241m=\u001b[39m \u001b[38;5;28mcls\u001b[39m\u001b[38;5;241m.\u001b[39mmax_instances:\n\u001b[0;32m----> 7\u001b[0m         \u001b[38;5;28;01mraise\u001b[39;00m \u001b[38;5;167;01mRuntimeError\u001b[39;00m(\u001b[38;5;124m\"\u001b[39m\u001b[38;5;124mNo more instances allowed!\u001b[39m\u001b[38;5;124m\"\u001b[39m)\n\u001b[1;32m      8\u001b[0m     \u001b[38;5;28mcls\u001b[39m\u001b[38;5;241m.\u001b[39minstances_created \u001b[38;5;241m+\u001b[39m\u001b[38;5;241m=\u001b[39m \u001b[38;5;241m1\u001b[39m\n\u001b[1;32m      9\u001b[0m     \u001b[38;5;28;01mreturn\u001b[39;00m \u001b[38;5;28msuper\u001b[39m()\u001b[38;5;241m.\u001b[39m\u001b[38;5;21m__new__\u001b[39m(\u001b[38;5;28mcls\u001b[39m)\n",
      "\u001b[0;31mRuntimeError\u001b[0m: No more instances allowed!"
     ]
    }
   ],
   "source": [
    "class SelfDestructingClass:\n",
    "    instances_created = 0\n",
    "    max_instances = 3\n",
    "\n",
    "    def __new__(cls):\n",
    "        if cls.instances_created >= cls.max_instances:\n",
    "            raise RuntimeError(\"No more instances allowed!\")\n",
    "        cls.instances_created += 1\n",
    "        return super().__new__(cls)\n",
    "\n",
    "# Usage\n",
    "instance1 = SelfDestructingClass()  # Ok\n",
    "instance2 = SelfDestructingClass()  # Ok\n",
    "instance3 = SelfDestructingClass()  # Ok\n",
    "instance4 = SelfDestructingClass()  # RuntimeError!\n"
   ]
  },
  {
   "cell_type": "code",
   "execution_count": 37,
   "metadata": {},
   "outputs": [
    {
     "name": "stdout",
     "output_type": "stream",
     "text": [
      "(a, b)\n",
      "(a, b)\n"
     ]
    }
   ],
   "source": [
    "import inspect\n",
    "from functools import wraps\n",
    "\n",
    "def modify_signature(func):\n",
    "    @wraps(func)\n",
    "    def wrapper(*args, **kwargs):\n",
    "        wrapper.__signature__ = inspect.signature(func)\n",
    "        return func(*args, **kwargs)\n",
    "    return wrapper\n",
    "\n",
    "@modify_signature\n",
    "def my_func(a, b):\n",
    "    return a + b\n",
    "\n",
    "print(inspect.signature(my_func))  # (a, b)\n",
    "my_func(1, 2)\n",
    "print(inspect.signature(my_func))  # (a, b) - remains the same but was dynamically reset\n"
   ]
  },
  {
   "cell_type": "code",
   "execution_count": 38,
   "metadata": {},
   "outputs": [
    {
     "name": "stdout",
     "output_type": "stream",
     "text": [
      "Intersecting realities\n",
      "Merging dimensions\n",
      "Inverting existence\n"
     ]
    }
   ],
   "source": [
    "class LogicalMadness:\n",
    "    def __and__(self, other):\n",
    "        return \"Intersecting realities\"\n",
    "\n",
    "    def __or__(self, other):\n",
    "        return \"Merging dimensions\"\n",
    "\n",
    "    def __invert__(self):\n",
    "        return \"Inverting existence\"\n",
    "\n",
    "obj = LogicalMadness()\n",
    "print(obj & None)  # Intersecting realities\n",
    "print(obj | None)  # Merging dimensions\n",
    "print(~obj)        # Inverting existence\n"
   ]
  },
  {
   "cell_type": "code",
   "execution_count": 39,
   "metadata": {},
   "outputs": [
    {
     "name": "stdout",
     "output_type": "stream",
     "text": [
      "[1, 2, 3]\n",
      "[3, 2, 1]\n"
     ]
    }
   ],
   "source": [
    "class ChangingIterator:\n",
    "    def __init__(self):\n",
    "        self.data = [1, 2, 3]\n",
    "\n",
    "    def __iter__(self):\n",
    "        for item in self.data:\n",
    "            yield item\n",
    "        self.data = self.data[::-1]\n",
    "\n",
    "iter_obj = ChangingIterator()\n",
    "print(list(iter_obj))  # [1, 2, 3]\n",
    "print(list(iter_obj))  # [3, 2, 1]\n"
   ]
  },
  {
   "cell_type": "code",
   "execution_count": 41,
   "metadata": {},
   "outputs": [
    {
     "name": "stdout",
     "output_type": "stream",
     "text": [
      "👻\n"
     ]
    },
    {
     "ename": "AttributeError",
     "evalue": "'GhostAttributes' object has no attribute 'ghost'",
     "output_type": "error",
     "traceback": [
      "\u001b[0;31m---------------------------------------------------------------------------\u001b[0m",
      "\u001b[0;31mAttributeError\u001b[0m                            Traceback (most recent call last)",
      "Cell \u001b[0;32mIn[41], line 13\u001b[0m\n\u001b[1;32m     11\u001b[0m ghost \u001b[38;5;241m=\u001b[39m GhostAttributes()\n\u001b[1;32m     12\u001b[0m \u001b[38;5;28mprint\u001b[39m(ghost\u001b[38;5;241m.\u001b[39mghost)  \u001b[38;5;66;03m# 👻\u001b[39;00m\n\u001b[0;32m---> 13\u001b[0m \u001b[38;5;28mprint\u001b[39m(\u001b[43mghost\u001b[49m\u001b[38;5;241;43m.\u001b[39;49m\u001b[43mghost\u001b[49m)  \u001b[38;5;66;03m# AttributeError: 'GhostAttributes' object has no attribute 'ghost'\u001b[39;00m\n",
      "Cell \u001b[0;32mIn[41], line 7\u001b[0m, in \u001b[0;36mGhostAttributes.__getattribute__\u001b[0;34m(self, item)\u001b[0m\n\u001b[1;32m      6\u001b[0m \u001b[38;5;28;01mdef\u001b[39;00m \u001b[38;5;21m__getattribute__\u001b[39m(\u001b[38;5;28mself\u001b[39m, item):\n\u001b[0;32m----> 7\u001b[0m     value \u001b[38;5;241m=\u001b[39m \u001b[38;5;28;43msuper\u001b[39;49m\u001b[43m(\u001b[49m\u001b[43m)\u001b[49m\u001b[38;5;241;43m.\u001b[39;49m\u001b[38;5;21;43m__getattribute__\u001b[39;49m\u001b[43m(\u001b[49m\u001b[43mitem\u001b[49m\u001b[43m)\u001b[49m\n\u001b[1;32m      8\u001b[0m     \u001b[38;5;28mdelattr\u001b[39m(\u001b[38;5;28mself\u001b[39m, item)\n\u001b[1;32m      9\u001b[0m     \u001b[38;5;28;01mreturn\u001b[39;00m value\n",
      "\u001b[0;31mAttributeError\u001b[0m: 'GhostAttributes' object has no attribute 'ghost'"
     ]
    }
   ],
   "source": [
    "class GhostAttributes:\n",
    "    def __init__(self):\n",
    "        self.ghost = \"👻\"\n",
    "        self.spooky = \"💀\"\n",
    "\n",
    "    def __getattribute__(self, item):\n",
    "        value = super().__getattribute__(item)\n",
    "        delattr(self, item)\n",
    "        return value\n",
    "\n",
    "ghost = GhostAttributes()\n",
    "print(ghost.ghost)  # 👻\n",
    "print(ghost.ghost)  # AttributeError: 'GhostAttributes' object has no attribute 'ghost'\n"
   ]
  },
  {
   "cell_type": "code",
   "execution_count": null,
   "metadata": {},
   "outputs": [],
   "source": []
  }
 ],
 "metadata": {
  "kernelspec": {
   "display_name": "Python 3",
   "language": "python",
   "name": "python3"
  },
  "language_info": {
   "codemirror_mode": {
    "name": "ipython",
    "version": 3
   },
   "file_extension": ".py",
   "mimetype": "text/x-python",
   "name": "python",
   "nbconvert_exporter": "python",
   "pygments_lexer": "ipython3",
   "version": "3.12.0"
  }
 },
 "nbformat": 4,
 "nbformat_minor": 2
}
