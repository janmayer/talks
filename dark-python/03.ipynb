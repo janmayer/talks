{
 "cells": [
  {
   "cell_type": "markdown",
   "metadata": {},
   "source": [
    "# 3. Dynamic Loading"
   ]
  },
  {
   "cell_type": "markdown",
   "metadata": {},
   "source": [
    "## Normal Importing"
   ]
  },
  {
   "cell_type": "code",
   "execution_count": 2,
   "metadata": {},
   "outputs": [],
   "source": [
    "import json"
   ]
  },
  {
   "cell_type": "code",
   "execution_count": 3,
   "metadata": {},
   "outputs": [
    {
     "data": {
      "text/plain": [
       "['dump',\n",
       " 'dumps',\n",
       " 'load',\n",
       " 'loads',\n",
       " 'JSONDecoder',\n",
       " 'JSONDecodeError',\n",
       " 'JSONEncoder']"
      ]
     },
     "execution_count": 3,
     "metadata": {},
     "output_type": "execute_result"
    }
   ],
   "source": [
    "json.__all__"
   ]
  },
  {
   "cell_type": "code",
   "execution_count": 4,
   "metadata": {},
   "outputs": [
    {
     "data": {
      "text/plain": [
       "'JSON (JavaScript Object Notation) <https://json.org> is a subset of\\nJavaScript syntax (ECMA-262 3rd edition) used as a lightweight data\\ninterchange format.\\n\\n:mod:`json` exposes an API familiar to users of the standard library\\n:mod:`marshal` and :mod:`pickle` modules.  It is derived from a\\nversion of the externally maintained simplejson library.\\n\\nEncoding basic Python object hierarchies::\\n\\n    >>> import json\\n    >>> json.dumps([\\'foo\\', {\\'bar\\': (\\'baz\\', None, 1.0, 2)}])\\n    \\'[\"foo\", {\"bar\": [\"baz\", null, 1.0, 2]}]\\'\\n    >>> print(json.dumps(\"\\\\\"foo\\\\bar\"))\\n    \"\\\\\"foo\\\\bar\"\\n    >>> print(json.dumps(\\'\\\\u1234\\'))\\n    \"\\\\u1234\"\\n    >>> print(json.dumps(\\'\\\\\\\\\\'))\\n    \"\\\\\\\\\"\\n    >>> print(json.dumps({\"c\": 0, \"b\": 0, \"a\": 0}, sort_keys=True))\\n    {\"a\": 0, \"b\": 0, \"c\": 0}\\n    >>> from io import StringIO\\n    >>> io = StringIO()\\n    >>> json.dump([\\'streaming API\\'], io)\\n    >>> io.getvalue()\\n    \\'[\"streaming API\"]\\'\\n\\nCompact encoding::\\n\\n    >>> import json\\n    >>> mydict = {\\'4\\': 5, \\'6\\': 7}\\n    >>> json.dumps([1,2,3,mydict], separators=(\\',\\', \\':\\'))\\n    \\'[1,2,3,{\"4\":5,\"6\":7}]\\'\\n\\nPretty printing::\\n\\n    >>> import json\\n    >>> print(json.dumps({\\'4\\': 5, \\'6\\': 7}, sort_keys=True, indent=4))\\n    {\\n        \"4\": 5,\\n        \"6\": 7\\n    }\\n\\nDecoding JSON::\\n\\n    >>> import json\\n    >>> obj = [\\'foo\\', {\\'bar\\': [\\'baz\\', None, 1.0, 2]}]\\n    >>> json.loads(\\'[\"foo\", {\"bar\":[\"baz\", null, 1.0, 2]}]\\') == obj\\n    True\\n    >>> json.loads(\\'\"\\\\\\\\\"foo\\\\\\\\bar\"\\') == \\'\"foo\\\\x08ar\\'\\n    True\\n    >>> from io import StringIO\\n    >>> io = StringIO(\\'[\"streaming API\"]\\')\\n    >>> json.load(io)[0] == \\'streaming API\\'\\n    True\\n\\nSpecializing JSON object decoding::\\n\\n    >>> import json\\n    >>> def as_complex(dct):\\n    ...     if \\'__complex__\\' in dct:\\n    ...         return complex(dct[\\'real\\'], dct[\\'imag\\'])\\n    ...     return dct\\n    ...\\n    >>> json.loads(\\'{\"__complex__\": true, \"real\": 1, \"imag\": 2}\\',\\n    ...     object_hook=as_complex)\\n    (1+2j)\\n    >>> from decimal import Decimal\\n    >>> json.loads(\\'1.1\\', parse_float=Decimal) == Decimal(\\'1.1\\')\\n    True\\n\\nSpecializing JSON object encoding::\\n\\n    >>> import json\\n    >>> def encode_complex(obj):\\n    ...     if isinstance(obj, complex):\\n    ...         return [obj.real, obj.imag]\\n    ...     raise TypeError(f\\'Object of type {obj.__class__.__name__} \\'\\n    ...                     f\\'is not JSON serializable\\')\\n    ...\\n    >>> json.dumps(2 + 1j, default=encode_complex)\\n    \\'[2.0, 1.0]\\'\\n    >>> json.JSONEncoder(default=encode_complex).encode(2 + 1j)\\n    \\'[2.0, 1.0]\\'\\n    >>> \\'\\'.join(json.JSONEncoder(default=encode_complex).iterencode(2 + 1j))\\n    \\'[2.0, 1.0]\\'\\n\\n\\nUsing json.tool from the shell to validate and pretty-print::\\n\\n    $ echo \\'{\"json\":\"obj\"}\\' | python -m json.tool\\n    {\\n        \"json\": \"obj\"\\n    }\\n    $ echo \\'{ 1.2:3.4}\\' | python -m json.tool\\n    Expecting property name enclosed in double quotes: line 1 column 3 (char 2)\\n'"
      ]
     },
     "execution_count": 4,
     "metadata": {},
     "output_type": "execute_result"
    }
   ],
   "source": [
    "json.__doc__"
   ]
  },
  {
   "cell_type": "code",
   "execution_count": 5,
   "metadata": {},
   "outputs": [
    {
     "data": {
      "text/plain": [
       "'/usr/local/Cellar/python@3.12/3.12.0/lib/python3.12/json/__init__.py'"
      ]
     },
     "execution_count": 5,
     "metadata": {},
     "output_type": "execute_result"
    }
   ],
   "source": [
    "json.__file__"
   ]
  },
  {
   "cell_type": "code",
   "execution_count": 2,
   "metadata": {},
   "outputs": [
    {
     "name": "stdout",
     "output_type": "stream",
     "text": [
      "['sys', 'builtins', '_frozen_importlib', '_imp', '_thread', '_warnings', '_weakref', '_io', 'marshal', 'posix', '_frozen_importlib_external', 'time', 'zipimport', '_codecs', 'codecs', 'encodings.aliases', 'encodings', 'encodings.utf_8', '_signal', '_abc', 'abc', 'io', '__main__', '_stat', 'stat', '_collections_abc', 'genericpath', 'posixpath', 'os.path', 'os', '_sitebuiltins', '_distutils_hack', 'site', 'importlib._bootstrap', 'importlib._bootstrap_external', 'warnings', 'importlib', 'importlib.machinery', 'importlib._abc', 'types', 'importlib.util', 'runpy', '_operator', 'operator', 'itertools', 'keyword', 'reprlib', '_collections', 'collections', '_functools', 'functools', 'enum', '_sre', 're._constants', 're._parser', 're._casefix', 're._compiler', 'copyreg', 're', 'collections.abc', 'contextlib', '_typing', 'typing.io', 'typing.re', 'typing', 'ipykernel._version', '__future__', '_json', 'json.scanner', 'json.decoder', 'json.encoder', 'json', 'errno', '_locale', 'locale', 'signal', '_weakrefset', 'threading', 'fcntl', '_posixsubprocess', 'select', 'math', 'selectors', 'subprocess', 'jupyter_client._version', 'platform', '_ctypes', '_struct', 'struct', 'ctypes._endian', 'ctypes', 'zmq.backend.select', 'cython_runtime', '_cython_3_0_6', 'zmq.error', 'zmq.backend.cython.context', 'weakref', 'zmq.backend.cython.message', 'copy', '_bisect', 'bisect', '_random', '_hashlib', '_blake2', 'hashlib', 'random', '_compat_pickle', '_pickle', 'pickle', 'zmq.constants', 'zmq.backend.cython.socket', 'zmq.backend.cython._device', 'zmq.backend.cython._poll', 'zmq.backend.cython._proxy_steerable', 'zmq.backend.cython._version', 'zmq.backend.cython.error', 'zmq.backend.cython.utils', 'zmq.backend.cython', 'zmq.backend', 'atexit', 'zmq.utils', 'zmq.utils.interop', 'zmq.sugar.attrsettr', 'zmq._typing', 'zmq.utils.jsonapi', 'zmq.sugar.poll', 'zmq.sugar.socket', 'zmq.sugar.context', 'zmq.sugar.frame', 'zmq.sugar.tracker', 'zmq.sugar.version', 'zmq.sugar.stopwatch', 'zmq.sugar', 'zmq', 'concurrent', 'token', '_tokenize', 'tokenize', 'linecache', 'textwrap', 'traceback', '_string', 'string', 'logging', 'concurrent.futures._base', 'concurrent.futures', '_heapq', 'heapq', '_socket', 'array', 'socket', '_ssl', 'binascii', 'base64', 'ssl', 'asyncio.constants', '_ast', 'ast', '_opcode', 'opcode', 'dis', 'inspect', 'asyncio.coroutines', '_contextvars', 'contextvars', 'asyncio.format_helpers', 'asyncio.base_futures', 'asyncio.exceptions', 'asyncio.base_tasks', '_asyncio', 'asyncio.events', 'asyncio.futures', 'asyncio.protocols', 'asyncio.transports', 'asyncio.log', 'asyncio.sslproto', 'asyncio.mixins', 'asyncio.locks', 'asyncio.timeouts', 'asyncio.tasks', 'asyncio.staggered', 'asyncio.trsock', 'asyncio.base_events', 'asyncio.runners', 'asyncio.queues', 'asyncio.streams', 'asyncio.subprocess', 'asyncio.taskgroups', 'asyncio.threads', 'asyncio.base_subprocess', 'asyncio.selector_events', 'asyncio.unix_events', 'asyncio', 'zmq._future', 'zmq.asyncio', 'fnmatch', 'ntpath', 'urllib', 'ipaddress', 'urllib.parse', 'pathlib', 'traitlets.utils', 'traitlets.utils.bunch', 'traitlets.utils.descriptions', 'traitlets.utils.getargspec', 'traitlets.utils.importstring', 'traitlets.utils.sentinel', 'traitlets.utils.warnings', 'traitlets.traitlets', 'traitlets._version', 'traitlets.utils.decorators', 'traitlets', '_queue', 'queue', 'jupyter_core.version', 'jupyter_core', 'jupyter_core.utils', 'jupyter_client.channelsabc', 'hmac', 'dataclasses', 'pprint', '_datetime', 'datetime', 'tornado', 'numbers', 'logging.handlers', 'html.entities', 'html', 'zlib', 'tornado.speedups', 'tornado.util', 'tornado.escape', '_curses', 'curses', 'tornado.log', 'tornado.concurrent', 'tornado.ioloop', 'socketserver', 'logging.config', 'traitlets.utils.text', 'gettext', 'argparse', 'traitlets.config.loader', 'traitlets.config.configurable', 'traitlets.utils.nested_update', 'traitlets.config.application', 'traitlets.config', 'traitlets.log', 'zmq.eventloop', 'zmq.eventloop.zmqstream', 'jupyter_client.adapter', 'dateutil._version', 'dateutil', 'calendar', 'six', '_decimal', 'decimal', 'dateutil._common', 'dateutil.relativedelta', 'six.moves', 'dateutil.tz._common', 'dateutil.tz._factories', 'dateutil.tz.tz', 'dateutil.tz', 'dateutil.parser._parser', 'dateutil.parser.isoparser', 'dateutil.parser', '_strptime', 'jupyter_client.jsonutil', 'jupyter_client.session', 'jupyter_client.channels', 'termios', 'getpass', 'jupyter_client.clientabc', 'glob', '_compression', '_bz2', 'bz2', '_lzma', 'lzma', 'shutil', 'tempfile', 'platformdirs.api', 'platformdirs.version', 'platformdirs.macos', 'platformdirs', 'jupyter_core.paths', 'jupyter_client.localinterfaces', 'jupyter_client.utils', 'jupyter_client.connect', 'jupyter_client.client', 'jupyter_client.asynchronous.client', 'jupyter_client.asynchronous', 'jupyter_client.blocking.client', 'jupyter_client.blocking', 'jupyter_client.launcher', '_uuid', 'uuid', '_csv', 'csv', 'email', 'zipfile._path.glob', 'zipfile._path', 'zipfile.__main__', 'zipfile', 'quopri', 'email._parseaddr', 'email.base64mime', 'email.quoprimime', 'email.errors', 'email.encoders', 'email.charset', 'email.utils', 'email.header', 'email._policybase', 'email._encoded_words', 'email.iterators', 'email.message', 'importlib.metadata._functools', 'importlib.metadata._text', 'importlib.metadata._adapters', 'importlib.metadata._meta', 'importlib.metadata._collections', 'importlib.metadata._itertools', 'importlib.resources.abc', 'importlib.resources._adapters', 'importlib.resources._common', 'importlib.resources._legacy', 'importlib.resources', 'importlib.abc', 'importlib.metadata', 'jupyter_client.provisioning.provisioner_base', 'jupyter_client.provisioning.factory', 'jupyter_client.provisioning.local_provisioner', 'jupyter_client.provisioning', 'jupyter_client.kernelspec', 'jupyter_client.managerabc', 'jupyter_client.manager', 'jupyter_client.multikernelmanager', 'jupyter_client', 'ipykernel.connect', 'ipykernel', 'IPython.core', 'IPython.core.getipython', 'IPython.core.release', 'pkgutil', 'sysconfig', '_sysconfigdata__darwin_darwin', '_osx_support', 'pydoc', 'executing._exceptions', 'executing._position_node_finder', 'executing.executing', 'executing.version', 'executing', 'asttokens.line_numbers', 'asttokens.util', 'asttokens.asttokens', 'asttokens', 'fractions', 'pure_eval.utils', 'pure_eval.my_getattr_static', 'pure_eval.core', 'pure_eval.version', 'pure_eval', 'stack_data.utils', 'stack_data.core', 'stack_data.formatting', 'stack_data.serializing', 'stack_data.version', 'stack_data', 'pygments', 'pygments.formatters._mapping', 'pygments.plugin', 'pygments.util', 'pygments.formatters', 'pygments.styles._mapping', 'pygments.styles', 'pygments.formatter', 'pygments.console', 'pygments.token', 'pygments.style', 'pygments.formatters.terminal256', 'IPython.utils', 'IPython.utils.colorable', 'IPython.utils.ipstruct', 'IPython.utils.coloransi', 'IPython.utils.PyColorize', 'IPython.utils.encoding', 'IPython.utils.py3compat', 'IPython.core.excolors', 'cmd', 'bdb', 'codeop', 'code', 'pdb', 'IPython.core.debugger', 'IPython.core.display_trap', 'pexpect.exceptions', 'pexpect.utils', 'pexpect.expect', 'tty', 'pty', 'resource', 'ptyprocess.util', 'ptyprocess.ptyprocess', 'ptyprocess', 'pexpect.spawnbase', 'pexpect.pty_spawn', 'pexpect.run', 'pexpect', 'shlex', 'IPython.utils._process_common', 'IPython.utils._process_posix', 'IPython.utils.process', 'IPython.utils.path', 'IPython.utils.terminal', 'IPython.core.ultratb', 'IPython.utils._sysinfo', 'IPython.utils.sysinfo', 'IPython.core.crashhandler', 'IPython.utils.importstring', 'IPython.paths', 'IPython.core.profiledir', 'IPython.core.application', 'IPython.terminal', 'IPython.core.compilerop', 'IPython.core.error', 'IPython.utils.docs', 'IPython.utils.decorators', 'IPython.utils.text', 'IPython.core.magic_arguments', 'getopt', 'IPython.core.display_functions', 'mimetypes', 'IPython.testing', 'IPython.testing.skipdoctest', 'IPython.core.display', 'IPython.lib', 'IPython.lib.display', 'IPython.display', 'IPython.utils.data', 'IPython.core.page', 'IPython.lib.pretty', 'IPython.utils.openpy', 'IPython.utils.dir2', 'IPython.utils.wildcard', 'pygments.lexers._mapping', 'pygments.modeline', 'pygments.lexers', 'pygments.filter', 'pygments.filters', 'pygments.regexopt', 'pygments.lexer', 'pygments.unistring', 'pygments.lexers.python', 'pygments.formatters.html', 'IPython.core.oinspect', 'IPython.utils.tokenutil', 'IPython.core.inputtransformer2', 'IPython.core.magic', 'IPython.core.hooks', 'IPython.core.autocall', 'IPython.core.macro', 'IPython.core.splitinput', 'IPython.core.prefilter', 'IPython.core.alias', 'IPython.core.builtin_trap', 'IPython.core.displayhook', 'IPython.core.displaypub', 'IPython.core.events', 'IPython.core.extensions', 'decorator', 'IPython.utils.sentinel', 'IPython.core.formatters', '_sqlite3', 'sqlite3.dbapi2', 'sqlite3', 'IPython.core.history', 'IPython.core.logger', 'IPython.core.payload', 'IPython.core.usage', 'IPython.utils.capture', 'IPython.utils.io', 'IPython.utils.strdispatch', 'IPython.utils.syspathcontext', 'IPython.core.async_helpers', 'IPython.core.interactiveshell', 'prompt_toolkit.application.current', 'prompt_toolkit.eventloop.utils', 'prompt_toolkit.eventloop.async_generator', 'prompt_toolkit.eventloop.inputhook', 'prompt_toolkit.eventloop', 'prompt_toolkit.application.run_in_terminal', 'prompt_toolkit.selection', 'prompt_toolkit.clipboard.base', 'prompt_toolkit.clipboard.in_memory', 'prompt_toolkit.clipboard', 'prompt_toolkit.cache', 'prompt_toolkit.enums', 'prompt_toolkit.filters.base', 'prompt_toolkit.filters.app', 'prompt_toolkit.filters.cli', 'prompt_toolkit.filters.utils', 'prompt_toolkit.filters', 'prompt_toolkit.document', 'prompt_toolkit.auto_suggest', 'prompt_toolkit.keys', 'prompt_toolkit.key_binding.key_bindings', 'wcwidth.table_vs16', 'wcwidth.table_wide', 'wcwidth.table_zero', 'wcwidth.unicode_versions', 'wcwidth.wcwidth', 'wcwidth', 'prompt_toolkit.utils', 'prompt_toolkit.key_binding.key_processor', 'prompt_toolkit.key_binding', 'prompt_toolkit.key_binding.vi_state', 'prompt_toolkit.cursor_shapes', 'prompt_toolkit.data_structures', 'prompt_toolkit.styles.base', 'prompt_toolkit.styles.named_colors', 'prompt_toolkit.styles.style', 'prompt_toolkit.styles.defaults', 'prompt_toolkit.styles.pygments', 'colorsys', 'prompt_toolkit.styles.style_transformation', 'prompt_toolkit.styles', 'prompt_toolkit.output.color_depth', 'prompt_toolkit.output.base', 'prompt_toolkit.output.flush_stdout', 'prompt_toolkit.output.plain_text', 'prompt_toolkit.output.defaults', 'prompt_toolkit.output', 'prompt_toolkit.output.vt100', 'prompt_toolkit.mouse_events', 'prompt_toolkit.formatted_text.base', 'prompt_toolkit.formatted_text.ansi', 'xml', 'xml.dom.domreg', 'xml.dom', 'xml.dom.minicompat', 'xml.dom.NodeFilter', 'xml.dom.xmlbuilder', 'xml.dom.minidom', 'prompt_toolkit.formatted_text.html', 'prompt_toolkit.formatted_text.pygments', 'prompt_toolkit.formatted_text.utils', 'prompt_toolkit.formatted_text', 'prompt_toolkit.completion.base', 'prompt_toolkit.completion.deduplicate', 'prompt_toolkit.completion.filesystem', 'prompt_toolkit.completion.word_completer', 'prompt_toolkit.completion.fuzzy_completer', 'prompt_toolkit.completion.nested', 'prompt_toolkit.completion', 'prompt_toolkit.history', 'prompt_toolkit.search', 'prompt_toolkit.validation', 'prompt_toolkit.buffer', 'prompt_toolkit.input.base', 'prompt_toolkit.input.defaults', 'prompt_toolkit.input', 'prompt_toolkit.input.typeahead', 'prompt_toolkit.key_binding.bindings', 'prompt_toolkit.key_binding.bindings.scroll', 'prompt_toolkit.key_binding.bindings.page_navigation', 'prompt_toolkit.lexers.base', 'prompt_toolkit.lexers.pygments', 'prompt_toolkit.lexers', 'prompt_toolkit.layout.utils', 'prompt_toolkit.layout.processors', 'prompt_toolkit.layout.controls', 'prompt_toolkit.layout.dimension', 'prompt_toolkit.layout.margins', 'prompt_toolkit.layout.mouse_handlers', 'prompt_toolkit.layout.screen', 'prompt_toolkit.layout.containers', 'prompt_toolkit.layout.layout', 'prompt_toolkit.layout.menus', 'prompt_toolkit.layout.scrollable_pane', 'prompt_toolkit.layout', 'prompt_toolkit.key_binding.bindings.completion', 'prompt_toolkit.key_binding.bindings.named_commands', 'prompt_toolkit.key_binding.bindings.basic', 'prompt_toolkit.key_binding.bindings.cpr', 'prompt_toolkit.key_binding.bindings.emacs', 'prompt_toolkit.key_binding.bindings.mouse', 'prompt_toolkit.input.ansi_escape_sequences', 'prompt_toolkit.input.vt100_parser', 'prompt_toolkit.key_binding.digraphs', 'prompt_toolkit.key_binding.bindings.vi', 'prompt_toolkit.key_binding.defaults', 'prompt_toolkit.key_binding.emacs_state', 'prompt_toolkit.layout.dummy', 'prompt_toolkit.renderer', 'prompt_toolkit.application.application', 'prompt_toolkit.application.dummy', 'prompt_toolkit.application', 'prompt_toolkit.key_binding.bindings.focus', 'prompt_toolkit.widgets.toolbars', 'prompt_toolkit.widgets.base', 'prompt_toolkit.widgets.dialogs', 'prompt_toolkit.widgets.menus', 'prompt_toolkit.widgets', 'prompt_toolkit.shortcuts.dialogs', 'prompt_toolkit.shortcuts.progress_bar.formatters', 'prompt_toolkit.shortcuts.progress_bar.base', 'prompt_toolkit.shortcuts.progress_bar', 'prompt_toolkit.key_binding.bindings.auto_suggest', 'prompt_toolkit.key_binding.bindings.open_in_editor', 'prompt_toolkit.shortcuts.prompt', 'prompt_toolkit.shortcuts.utils', 'prompt_toolkit.shortcuts', 'prompt_toolkit', 'prompt_toolkit.patch_stdout', 'unicodedata', 'IPython.core.guarded_eval', 'IPython.core.latex_symbols', 'IPython.utils.generics', 'parso.utils', 'parso.tree', 'parso.python', 'parso.python.token', 'parso.python.tokenize', 'parso.pgen2.grammar_parser', 'parso.pgen2.generator', 'parso.pgen2', 'parso.parser', 'parso._compatibility', 'difflib', 'parso.python.prefix', 'parso.python.tree', 'parso.python.parser', 'parso.python.diff', 'gc', 'parso.cache', 'parso.normalizer', 'parso.python.errors', 'parso.python.pep8', 'parso.file_io', 'parso.grammar', 'parso', 'jedi.parser_utils', 'jedi.debug', 'jedi.settings', 'jedi.cache', 'jedi.file_io', 'jedi.inference.cache', 'jedi.inference.helpers', 'jedi.inference.utils', 'jedi.inference.base_value', 'jedi.inference.sys_path', 'jedi.inference.recursion', 'jedi.inference.flow_analysis', 'jedi.common', 'jedi.inference.lazy_value', 'jedi.inference.docstrings', 'jedi.plugins', 'jedi.inference.names', 'jedi.inference.filters', 'jedi.inference.compiled.getattr_static', 'jedi.inference.compiled.access', 'jedi.inference.signature', 'jedi.inference.context', 'jedi.inference.compiled.value', 'jedi.inference.compiled', 'jedi.inference.analysis', 'jedi.inference.gradual', 'jedi.inference.value.module', 'jedi.inference.value.dynamic_arrays', 'jedi.inference.value.iterable', 'jedi.inference.arguments', 'jedi.inference.parser_cache', 'jedi.inference.gradual.generics', 'jedi.inference.value.function', 'jedi.inference.value.klass', 'jedi.inference.value.instance', 'jedi.inference.value', 'jedi.inference.gradual.base', 'jedi.inference.gradual.type_var', 'jedi.inference.gradual.typing', 'jedi.inference.gradual.stub_value', 'jedi.inference.gradual.typeshed', 'jedi._compatibility', 'jedi.inference.compiled.subprocess.functions', 'jedi.api.exceptions', 'jedi.inference.compiled.subprocess', 'jedi.inference.imports', 'jedi.inference.param', 'jedi.inference.gradual.annotation', 'jedi.inference.value.decorator', 'jedi.inference.syntax_tree', 'jedi.inference', 'jedi.inference.gradual.conversion', 'jedi.inference.compiled.mixed', 'pydoc_data', 'pydoc_data.topics', 'jedi.api.keywords', 'jedi.api.completion_cache', 'jedi.api.helpers', 'jedi.api.classes', 'jedi.api.interpreter', 'jedi.api.strings', 'jedi.api.file_name', 'jedi.inference.docstring_utils', 'jedi.api.completion', 'filecmp', 'jedi.api.environment', 'jedi.inference.references', 'jedi.api.project', 'jedi.api.errors', 'jedi.inference.value.namespace', 'jedi.api.refactoring', 'jedi.api.refactoring.extract', 'jedi.inference.gradual.utils', 'jedi.api', 'jedi.plugins.stdlib', 'jedi.plugins.flask', 'jedi.plugins.pytest', 'jedi.plugins.django', 'jedi.plugins.registry', 'jedi', 'IPython.core.completer', 'IPython.terminal.ptutils', 'IPython.terminal.shortcuts.auto_match', 'IPython.terminal.shortcuts.filters', 'IPython.terminal.shortcuts.auto_suggest', 'IPython.terminal.shortcuts', 'concurrent.futures.thread', 'IPython.terminal.debugger', 'IPython.lib.clipboard', 'IPython.terminal.magics', 'IPython.terminal.pt_inputhooks', 'IPython.terminal.prompts', 'IPython.terminal.interactiveshell', 'IPython.core.magics.auto', 'IPython.core.magics.basic', 'http', 'email.feedparser', 'email.parser', 'http.client', 'urllib.response', 'urllib.error', '_scproxy', 'urllib.request', 'IPython.utils.contexts', 'IPython.core.magics.code', 'IPython.core.magics.config', 'IPython.core.magics.display', '_lsprof', 'profile', 'cProfile', 'pstats', 'timeit', 'IPython.utils.module_paths', 'IPython.utils.timing', 'IPython.core.magics.ast_mod', 'IPython.core.magics.execution', 'IPython.core.magics.extension', 'IPython.core.magics.history', 'IPython.core.magics.logging', 'IPython.core.magics.namespace', 'IPython.core.magics.osm', 'IPython.core.magics.packaging', 'IPython.core.pylabtools', 'IPython.core.magics.pylab', 'IPython.core.magics.script', 'IPython.core.magics', 'IPython.core.shellapp', 'IPython.extensions', 'IPython.extensions.storemagic', 'IPython.terminal.ipapp', 'IPython.terminal.embed', 'IPython.utils.frame', 'IPython', 'ipykernel.control', 'ipykernel.heartbeat', 'ipykernel.iostream', 'comm.base_comm', 'comm', 'ipykernel.jsonutil', 'pwd', 'psutil._common', 'psutil._compat', 'psutil._psutil_osx', 'psutil._psposix', 'psutil._psutil_posix', 'psutil._psosx', 'psutil', 'tornado.gen', 'tornado.locks', 'tornado.queues', 'ipykernel.kernelbase', 'ipykernel.comm.comm', 'ipykernel.comm.manager', 'ipykernel.comm', 'ipykernel.compiler', 'debugpy._version', 'debugpy.public_api', 'debugpy', 'debugpy._vendored._util', 'debugpy._vendored', '_pydevd_bundle', 'encodings.ascii', 'encodings.latin_1', 'stringprep', 'encodings.idna', '_pydevd_bundle.pydevd_vm_type', '_pydev_bundle', 'xmlrpc', 'xml.parsers', 'pyexpat.errors', 'pyexpat.model', 'pyexpat', 'xml.parsers.expat.model', 'xml.parsers.expat.errors', 'xml.parsers.expat', 'gzip', 'xmlrpc.client', 'http.server', 'xmlrpc.server', '_pydev_bundle._pydev_saved_modules', '_pydevd_bundle.pydevd_constants', '_pydev_runfiles', '_pydevd_frame_eval', 'pydev_ipython', 'pydevd_plugins', '_pydev_bundle.pydev_log', '_pydev_bundle._pydev_filesystem_encoding', '_pydevd_bundle.pydevd_comm_constants', 'pydevd_file_utils', '_pydev_bundle._pydev_execfile', '_pydevd_bundle.pydevd_exec2', '_pydev_bundle.pydev_imports', '_pydev_bundle.pydev_is_thread_alive', '_pydev_bundle.pydev_override', 'pydevd_plugins.extensions', '_pydevd_bundle.pydevd_extension_utils', '_pydevd_bundle.pydevd_frame_utils', '_pydevd_bundle.pydevd_filtering', '_pydevd_bundle.pydevd_io', '_pydevd_bundle.pydevd_defaults', '_pydevd_bundle.pydevd_utils', '_pydevd_bundle.pydevd_runpy', '_pydev_bundle._pydev_tipper_common', '_pydev_bundle._pydev_imports_tipper', '_pydev_bundle._pydev_calltip_util', '_pydevd_bundle.pydevd_safe_repr', '_pydevd_bundle.pydevd_resolver', '_pydevd_bundle.pydevd_extension_api', '_pydevd_bundle.pydevd_xml', '_pydevd_bundle.pydevd_dont_trace', '_pydevd_frame_eval.vendored', '_pydevd_frame_eval.vendored.bytecode.flags', '_pydevd_frame_eval.vendored.bytecode.instr', '_pydevd_frame_eval.vendored.bytecode.bytecode', '_pydevd_frame_eval.vendored.bytecode.concrete', '_pydevd_frame_eval.vendored.bytecode.cfg', '_pydevd_frame_eval.vendored.bytecode', '_pydevd_bundle.pydevd_bytecode_utils', '_pydevd_bundle.pydevd_frame', '_pydevd_bundle.pydevd_additional_thread_info_regular', '_pydevd_bundle.pydevd_additional_thread_info', '_pydevd_bundle.pydevd_thread_lifecycle', '_pydevd_bundle.pydevd_save_locals', '_pydev_bundle.pydev_monkey', 'pydevd_tracing', '_pydevd_bundle.pydevd_collect_bytecode_info', '_pydevd_bundle.pydevd_daemon_thread', '_pydevd_bundle.pydevd_timeout', '_pydevd_bundle.pydevd_vars', '_pydev_bundle.pydev_console_utils', '_pydevd_bundle.pydevd_import_class', '_pydevd_bundle.pydevd_breakpoints', '_pydevd_bundle.pydevd_custom_frames', '_pydevd_bundle.pydevd_dont_trace_files', '_pydevd_bundle.pydevd_net_command', '_pydevd_bundle.pydevconsole_code', '_pydev_bundle.pydev_umd', 'pydevconsole', '_pydev_bundle._pydev_completer', '_pydevd_bundle.pydevd_net_command_factory_xml', '_pydevd_bundle.pydevd_trace_dispatch_regular', '_pydevd_bundle.pydevd_trace_dispatch', '_pydevd_frame_eval.pydevd_frame_eval_main', '_pydevd_bundle.pydevd_source_mapping', '_pydevd_bundle.pydevd_concurrency_analyser', '_pydevd_bundle.pydevd_concurrency_analyser.pydevd_thread_wrappers', '_pydevd_bundle.pydevd_concurrency_analyser.pydevd_concurrency_logger', '_pydevd_bundle._debug_adapter', '_pydevd_bundle._debug_adapter.pydevd_schema_log', '_pydevd_bundle._debug_adapter.pydevd_base_schema', '_pydevd_bundle._debug_adapter.pydevd_schema', '_pydevd_bundle.pydevd_reload', '_pydev_bundle.fsnotify', '_pydevd_bundle.pydevd_console', '_pydevd_bundle.pydevd_comm', '_pydevd_bundle.pydevd_net_command_factory_json', '_pydevd_bundle.pydevd_api', '_pydevd_bundle.pydevd_json_debug_options', '_pydevd_bundle.pydevd_process_net_command_json', '_pydevd_bundle.pydevd_traceproperty', '_pydevd_bundle.pydevd_process_net_command', '_pydevd_bundle.pydevd_suspended_frames', '_pydevd_bundle.pydevd_trace_api', 'pydevd_plugins.pydevd_line_validation', 'pydevd_plugins.django_debug', 'pydevd_plugins.jinja2_debug', '_pydevd_bundle.pydevd_plugin_utils', 'pydevd', 'debugpy._vendored.force_pydevd', 'debugpy.server', 'debugpy.adapter', 'debugpy.common', 'debugpy.common.json', 'debugpy.common.timestamp', 'debugpy.common.util', 'plistlib', 'debugpy.common.log', 'debugpy.common.sockets', 'debugpy.server.api', 'ipykernel.debugger', 'packaging', 'packaging._structures', 'packaging.version', 'ipykernel.eventloops', 'IPython.core.payloadpage', 'ipykernel.displayhook', 'ipykernel.zmqshell', 'ipykernel.ipkernel', 'ipykernel.parentpoller', 'ipykernel.kernelapp', 'tornado.platform', 'tornado.platform.asyncio', 'faulthandler', 'IPython.core.completerlib', 'ctypes.macholib', 'ctypes.macholib.framework', 'ctypes.macholib.dylib', 'ctypes.macholib.dyld', 'ctypes.util', 'appnope._nope', 'appnope']\n"
     ]
    }
   ],
   "source": [
    "import sys\n",
    "\n",
    "# List all modules that have been imported\n",
    "print(list(sys.modules.keys()))"
   ]
  },
  {
   "cell_type": "code",
   "execution_count": 7,
   "metadata": {},
   "outputs": [
    {
     "name": "stdout",
     "output_type": "stream",
     "text": [
      "['sys', 'builtins', '_frozen_importlib', '_imp', '_thread', '_warnings', '_weakref', '_io', 'marshal', 'posix', '_frozen_importlib_external', 'time', 'zipimport', '_codecs', 'codecs', 'encodings.aliases', 'encodings', 'encodings.utf_8', '_signal', '_abc', 'abc', 'io', '__main__', '_stat', 'stat', '_collections_abc', 'genericpath', 'posixpath', 'os.path', 'os', '_sitebuiltins', '_distutils_hack', 'types', 'importlib._bootstrap', 'importlib._bootstrap_external', 'warnings', 'importlib', 'importlib._abc', 'itertools', 'keyword', '_operator', 'operator', 'reprlib', '_collections', 'collections', '_functools', 'functools', 'contextlib', 'importlib.util', 'importlib.machinery', 'google', 'google.logging', 'mpl_toolkits', 'enum', '_sre', 're._constants', 're._parser', 're._casefix', 're._compiler', 'copyreg', 're', 'sitecustomize', 'site']\n"
     ]
    }
   ],
   "source": [
    "!python3 -c \"import sys; print(list(sys.modules.keys()))\""
   ]
  },
  {
   "cell_type": "markdown",
   "metadata": {},
   "source": [
    "## Dynamic importing"
   ]
  },
  {
   "cell_type": "code",
   "execution_count": 8,
   "metadata": {},
   "outputs": [
    {
     "data": {
      "text/plain": [
       "2.0"
      ]
     },
     "execution_count": 8,
     "metadata": {},
     "output_type": "execute_result"
    }
   ],
   "source": [
    "import importlib\n",
    "\n",
    "math = importlib.import_module(\"math\")\n",
    "math.sqrt(4)"
   ]
  },
  {
   "cell_type": "code",
   "execution_count": 10,
   "metadata": {},
   "outputs": [],
   "source": [
    "from collections.abc import Iterator\n",
    "from types import ModuleType\n",
    "import pkgutil\n",
    "\n",
    "def import_submodules(package_name: str) -> Iterator[ModuleType]:\n",
    "    package = importlib.import_module(package_name)\n",
    "\n",
    "    for _, name, is_pkg in pkgutil.walk_packages(package.__path__):\n",
    "        full_name = f\"{package_name}.{name}\"\n",
    "\n",
    "        module = importlib.import_module(full_name)\n",
    "        yield module\n",
    "\n",
    "        if is_pkg:\n",
    "            yield from import_submodules(full_name)"
   ]
  },
  {
   "cell_type": "code",
   "execution_count": 23,
   "metadata": {},
   "outputs": [
    {
     "name": "stdout",
     "output_type": "stream",
     "text": [
      "<module 'pydantic._internal' from '/usr/local/Cellar/python@3.12/3.12.0/lib/python3.12/site-packages/pydantic/_internal/__init__.py'>\n",
      "<module 'pydantic._internal._config' from '/usr/local/Cellar/python@3.12/3.12.0/lib/python3.12/site-packages/pydantic/_internal/_config.py'>\n",
      "<module 'pydantic._internal._core_metadata' from '/usr/local/Cellar/python@3.12/3.12.0/lib/python3.12/site-packages/pydantic/_internal/_core_metadata.py'>\n",
      "<module 'pydantic._internal._core_utils' from '/usr/local/Cellar/python@3.12/3.12.0/lib/python3.12/site-packages/pydantic/_internal/_core_utils.py'>\n",
      "<module 'pydantic._internal._dataclasses' from '/usr/local/Cellar/python@3.12/3.12.0/lib/python3.12/site-packages/pydantic/_internal/_dataclasses.py'>\n",
      "<module 'pydantic._internal._decorators' from '/usr/local/Cellar/python@3.12/3.12.0/lib/python3.12/site-packages/pydantic/_internal/_decorators.py'>\n",
      "<module 'pydantic._internal._decorators_v1' from '/usr/local/Cellar/python@3.12/3.12.0/lib/python3.12/site-packages/pydantic/_internal/_decorators_v1.py'>\n",
      "<module 'pydantic._internal._discriminated_union' from '/usr/local/Cellar/python@3.12/3.12.0/lib/python3.12/site-packages/pydantic/_internal/_discriminated_union.py'>\n",
      "<module 'pydantic._internal._fields' from '/usr/local/Cellar/python@3.12/3.12.0/lib/python3.12/site-packages/pydantic/_internal/_fields.py'>\n",
      "<module 'pydantic._internal._forward_ref' from '/usr/local/Cellar/python@3.12/3.12.0/lib/python3.12/site-packages/pydantic/_internal/_forward_ref.py'>\n",
      "<module 'pydantic._internal._generate_schema' from '/usr/local/Cellar/python@3.12/3.12.0/lib/python3.12/site-packages/pydantic/_internal/_generate_schema.py'>\n",
      "<module 'pydantic._internal._generics' from '/usr/local/Cellar/python@3.12/3.12.0/lib/python3.12/site-packages/pydantic/_internal/_generics.py'>\n",
      "<module 'pydantic._internal._internal_dataclass' from '/usr/local/Cellar/python@3.12/3.12.0/lib/python3.12/site-packages/pydantic/_internal/_internal_dataclass.py'>\n",
      "<module 'pydantic._internal._known_annotated_metadata' from '/usr/local/Cellar/python@3.12/3.12.0/lib/python3.12/site-packages/pydantic/_internal/_known_annotated_metadata.py'>\n",
      "<module 'pydantic._internal._mock_val_ser' from '/usr/local/Cellar/python@3.12/3.12.0/lib/python3.12/site-packages/pydantic/_internal/_mock_val_ser.py'>\n",
      "<module 'pydantic._internal._model_construction' from '/usr/local/Cellar/python@3.12/3.12.0/lib/python3.12/site-packages/pydantic/_internal/_model_construction.py'>\n",
      "<module 'pydantic._internal._repr' from '/usr/local/Cellar/python@3.12/3.12.0/lib/python3.12/site-packages/pydantic/_internal/_repr.py'>\n",
      "<module 'pydantic._internal._schema_generation_shared' from '/usr/local/Cellar/python@3.12/3.12.0/lib/python3.12/site-packages/pydantic/_internal/_schema_generation_shared.py'>\n",
      "<module 'pydantic._internal._std_types_schema' from '/usr/local/Cellar/python@3.12/3.12.0/lib/python3.12/site-packages/pydantic/_internal/_std_types_schema.py'>\n",
      "<module 'pydantic._internal._typing_extra' from '/usr/local/Cellar/python@3.12/3.12.0/lib/python3.12/site-packages/pydantic/_internal/_typing_extra.py'>\n",
      "<module 'pydantic._internal._utils' from '/usr/local/Cellar/python@3.12/3.12.0/lib/python3.12/site-packages/pydantic/_internal/_utils.py'>\n",
      "<module 'pydantic._internal._validate_call' from '/usr/local/Cellar/python@3.12/3.12.0/lib/python3.12/site-packages/pydantic/_internal/_validate_call.py'>\n",
      "<module 'pydantic._internal._validators' from '/usr/local/Cellar/python@3.12/3.12.0/lib/python3.12/site-packages/pydantic/_internal/_validators.py'>\n",
      "<module 'pydantic._migration' from '/usr/local/Cellar/python@3.12/3.12.0/lib/python3.12/site-packages/pydantic/_migration.py'>\n",
      "<module 'pydantic.alias_generators' from '/usr/local/Cellar/python@3.12/3.12.0/lib/python3.12/site-packages/pydantic/alias_generators.py'>\n",
      "<module 'pydantic.annotated_handlers' from '/usr/local/Cellar/python@3.12/3.12.0/lib/python3.12/site-packages/pydantic/annotated_handlers.py'>\n",
      "<module 'pydantic.class_validators' from '/usr/local/Cellar/python@3.12/3.12.0/lib/python3.12/site-packages/pydantic/class_validators.py'>\n",
      "<module 'pydantic.color' from '/usr/local/Cellar/python@3.12/3.12.0/lib/python3.12/site-packages/pydantic/color.py'>\n",
      "<module 'pydantic.config' from '/usr/local/Cellar/python@3.12/3.12.0/lib/python3.12/site-packages/pydantic/config.py'>\n",
      "<module 'pydantic.dataclasses' from '/usr/local/Cellar/python@3.12/3.12.0/lib/python3.12/site-packages/pydantic/dataclasses.py'>\n",
      "<module 'pydantic.datetime_parse' from '/usr/local/Cellar/python@3.12/3.12.0/lib/python3.12/site-packages/pydantic/datetime_parse.py'>\n",
      "<module 'pydantic.decorator' from '/usr/local/Cellar/python@3.12/3.12.0/lib/python3.12/site-packages/pydantic/decorator.py'>\n",
      "<module 'pydantic.deprecated' from '/usr/local/Cellar/python@3.12/3.12.0/lib/python3.12/site-packages/pydantic/deprecated/__init__.py'>\n",
      "<module 'pydantic.deprecated.class_validators' from '/usr/local/Cellar/python@3.12/3.12.0/lib/python3.12/site-packages/pydantic/deprecated/class_validators.py'>\n",
      "<module 'pydantic.deprecated.config' from '/usr/local/Cellar/python@3.12/3.12.0/lib/python3.12/site-packages/pydantic/deprecated/config.py'>\n",
      "<module 'pydantic.deprecated.copy_internals' from '/usr/local/Cellar/python@3.12/3.12.0/lib/python3.12/site-packages/pydantic/deprecated/copy_internals.py'>\n",
      "<module 'pydantic.deprecated.decorator' from '/usr/local/Cellar/python@3.12/3.12.0/lib/python3.12/site-packages/pydantic/deprecated/decorator.py'>\n",
      "<module 'pydantic.deprecated.json' from '/usr/local/Cellar/python@3.12/3.12.0/lib/python3.12/site-packages/pydantic/deprecated/json.py'>\n",
      "<module 'pydantic.deprecated.parse' from '/usr/local/Cellar/python@3.12/3.12.0/lib/python3.12/site-packages/pydantic/deprecated/parse.py'>\n",
      "<module 'pydantic.deprecated.tools' from '/usr/local/Cellar/python@3.12/3.12.0/lib/python3.12/site-packages/pydantic/deprecated/tools.py'>\n",
      "<module 'pydantic.env_settings' from '/usr/local/Cellar/python@3.12/3.12.0/lib/python3.12/site-packages/pydantic/env_settings.py'>\n",
      "<module 'pydantic.error_wrappers' from '/usr/local/Cellar/python@3.12/3.12.0/lib/python3.12/site-packages/pydantic/error_wrappers.py'>\n",
      "<module 'pydantic.errors' from '/usr/local/Cellar/python@3.12/3.12.0/lib/python3.12/site-packages/pydantic/errors.py'>\n",
      "<module 'pydantic.fields' from '/usr/local/Cellar/python@3.12/3.12.0/lib/python3.12/site-packages/pydantic/fields.py'>\n",
      "<module 'pydantic.functional_serializers' from '/usr/local/Cellar/python@3.12/3.12.0/lib/python3.12/site-packages/pydantic/functional_serializers.py'>\n",
      "<module 'pydantic.functional_validators' from '/usr/local/Cellar/python@3.12/3.12.0/lib/python3.12/site-packages/pydantic/functional_validators.py'>\n",
      "<module 'pydantic.generics' from '/usr/local/Cellar/python@3.12/3.12.0/lib/python3.12/site-packages/pydantic/generics.py'>\n",
      "<module 'pydantic.json' from '/usr/local/Cellar/python@3.12/3.12.0/lib/python3.12/site-packages/pydantic/json.py'>\n",
      "<module 'pydantic.json_schema' from '/usr/local/Cellar/python@3.12/3.12.0/lib/python3.12/site-packages/pydantic/json_schema.py'>\n",
      "<module 'pydantic.main' from '/usr/local/Cellar/python@3.12/3.12.0/lib/python3.12/site-packages/pydantic/main.py'>\n"
     ]
    }
   ],
   "source": [
    "try:\n",
    "    for module in import_submodules(\"pydantic\"):\n",
    "        print(module)\n",
    "except:\n",
    "    pass"
   ]
  },
  {
   "cell_type": "code",
   "execution_count": 49,
   "metadata": {},
   "outputs": [],
   "source": [
    "from pathlib import Path\n",
    "import importlib.util\n",
    "\n",
    "def import_from_path(path: Path):\n",
    "    spec = importlib.util.spec_from_file_location(path.stem, path)\n",
    "\n",
    "    if not spec or not spec.loader:\n",
    "        raise ImportError(f\"Cannot load module from path {path}\")\n",
    "\n",
    "    module = importlib.util.module_from_spec(spec)\n",
    "    spec.loader.exec_module(module)\n",
    "\n",
    "    return module"
   ]
  },
  {
   "cell_type": "code",
   "execution_count": 50,
   "metadata": {},
   "outputs": [
    {
     "data": {
      "text/plain": [
       "'Hello, World!'"
      ]
     },
     "execution_count": 50,
     "metadata": {},
     "output_type": "execute_result"
    }
   ],
   "source": [
    "some_module = import_from_path(Path(\"./something.py\"))\n",
    "some_module.greeting(\"World\")"
   ]
  },
  {
   "cell_type": "code",
   "execution_count": null,
   "metadata": {},
   "outputs": [],
   "source": []
  }
 ],
 "metadata": {
  "kernelspec": {
   "display_name": "Python 3",
   "language": "python",
   "name": "python3"
  },
  "language_info": {
   "codemirror_mode": {
    "name": "ipython",
    "version": 3
   },
   "file_extension": ".py",
   "mimetype": "text/x-python",
   "name": "python",
   "nbconvert_exporter": "python",
   "pygments_lexer": "ipython3",
   "version": "3.12.0"
  }
 },
 "nbformat": 4,
 "nbformat_minor": 2
}
