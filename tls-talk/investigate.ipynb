{
 "cells": [
  {
   "cell_type": "code",
   "execution_count": 41,
   "metadata": {
    "vscode": {
     "languageId": "shellscript"
    }
   },
   "outputs": [
    {
     "name": "stdout",
     "output_type": "stream",
     "text": [
      "depth=2 C = US, O = Google Trust Services LLC, CN = GTS Root R1\n",
      "verify return:1\n",
      "depth=1 C = US, O = Google Trust Services LLC, CN = GTS CA 1C3\n",
      "verify return:1\n",
      "depth=0 CN = www.google.com\n",
      "verify return:1\n",
      "DONE\n"
     ]
    }
   ],
   "source": [
    "!openssl s_client -showcerts -connect www.google.com:443 </dev/null 1> google.pem"
   ]
  },
  {
   "cell_type": "code",
   "execution_count": 62,
   "metadata": {},
   "outputs": [
    {
     "name": "stdout",
     "output_type": "stream",
     "text": [
      "Certificate details:\n",
      "       Issuer CN=GTS CA 1C3,O=Google Trust Services LLC,C=US\n",
      "      Subject CN=www.google.com\n",
      "        Until 2023-06-12 08:26:31\n",
      "       Serial 174872039229542486962443516371527734348\n",
      "         Type <class 'cryptography.hazmat.backends.openssl.rsa._RSAPublicKey'>\n",
      "   Extensions\n",
      "     - keyUsage <KeyUsage(digital_signature=True, content_commitment=False, key_encipherment=False, data_encipherment=False, key_agreement=False, key_cert_sign=False, crl_sign=False, encipher_only=False, decipher_only=False)>\n",
      "     - extendedKeyUsage <ExtendedKeyUsage([<ObjectIdentifier(oid=1.3.6.1.5.5.7.3.1, name=serverAuth)>])>\n",
      "     - basicConstraints <BasicConstraints(ca=False, path_length=None)>\n",
      "     - subjectKeyIdentifier <SubjectKeyIdentifier(digest=b'\\xa3\\xa3:\\xc6\\xae\\x8e\\x80E\\xe1\\xa7\\xfa&\\xb1\\xc6\\x8c<-\\x0e\\x8d.')>\n",
      "     - authorityKeyIdentifier <AuthorityKeyIdentifier(key_identifier=b\"\\x8at\\x7f\\xaf\\x85\\xcd\\xee\\x95\\xcd=\\x9c\\xd0\\xe2F\\x14\\xf3q5\\x1d'\", authority_cert_issuer=None, authority_cert_serial_number=None)>\n",
      "     - authorityInfoAccess <AuthorityInformationAccess([<AccessDescription(access_method=<ObjectIdentifier(oid=1.3.6.1.5.5.7.48.1, name=OCSP)>, access_location=<UniformResourceIdentifier(value='http://ocsp.pki.goog/gts1c3')>)>, <AccessDescription(access_method=<ObjectIdentifier(oid=1.3.6.1.5.5.7.48.2, name=caIssuers)>, access_location=<UniformResourceIdentifier(value='http://pki.goog/repo/certs/gts1c3.der')>)>])>\n",
      "     - subjectAltName <SubjectAlternativeName(<GeneralNames([<DNSName(value='www.google.com')>])>)>\n",
      "     - certificatePolicies <CertificatePolicies([<PolicyInformation(policy_identifier=<ObjectIdentifier(oid=2.23.140.1.2.1, name=Unknown OID)>, policy_qualifiers=None)>, <PolicyInformation(policy_identifier=<ObjectIdentifier(oid=1.3.6.1.4.1.11129.2.5.3, name=Unknown OID)>, policy_qualifiers=None)>])>\n",
      "     - cRLDistributionPoints <CRLDistributionPoints([<DistributionPoint(full_name=[<UniformResourceIdentifier(value='http://crls.pki.goog/gts1c3/QqFxbi9M48c.crl')>], relative_name=None, reasons=None, crl_issuer=None)>])>\n",
      "     - signedCertificateTimestampList <PrecertificateSignedCertificateTimestamps([<builtins.Sct object at 0x7fa25077fb40>, <builtins.Sct object at 0x7fa25077d3e0>])>\n",
      "\n",
      "\n",
      "Certificate details:\n",
      "       Issuer CN=GTS Root R1,O=Google Trust Services LLC,C=US\n",
      "      Subject CN=GTS CA 1C3,O=Google Trust Services LLC,C=US\n",
      "        Until 2027-09-30 00:00:42\n",
      "       Serial 159612451717983579589660725350\n",
      "         Type <class 'cryptography.hazmat.backends.openssl.rsa._RSAPublicKey'>\n",
      "   Extensions\n",
      "     - keyUsage <KeyUsage(digital_signature=True, content_commitment=False, key_encipherment=False, data_encipherment=False, key_agreement=False, key_cert_sign=True, crl_sign=True, encipher_only=False, decipher_only=False)>\n",
      "     - extendedKeyUsage <ExtendedKeyUsage([<ObjectIdentifier(oid=1.3.6.1.5.5.7.3.1, name=serverAuth)>, <ObjectIdentifier(oid=1.3.6.1.5.5.7.3.2, name=clientAuth)>])>\n",
      "     - basicConstraints <BasicConstraints(ca=True, path_length=0)>\n",
      "     - subjectKeyIdentifier <SubjectKeyIdentifier(digest=b\"\\x8at\\x7f\\xaf\\x85\\xcd\\xee\\x95\\xcd=\\x9c\\xd0\\xe2F\\x14\\xf3q5\\x1d'\")>\n",
      "     - authorityKeyIdentifier <AuthorityKeyIdentifier(key_identifier=b\"\\xe4\\xaf+&q\\x1a+H'\\x85/Rf,\\xef\\xf0\\x89\\x13q>\", authority_cert_issuer=None, authority_cert_serial_number=None)>\n",
      "     - authorityInfoAccess <AuthorityInformationAccess([<AccessDescription(access_method=<ObjectIdentifier(oid=1.3.6.1.5.5.7.48.1, name=OCSP)>, access_location=<UniformResourceIdentifier(value='http://ocsp.pki.goog/gtsr1')>)>, <AccessDescription(access_method=<ObjectIdentifier(oid=1.3.6.1.5.5.7.48.2, name=caIssuers)>, access_location=<UniformResourceIdentifier(value='http://pki.goog/repo/certs/gtsr1.der')>)>])>\n",
      "     - cRLDistributionPoints <CRLDistributionPoints([<DistributionPoint(full_name=[<UniformResourceIdentifier(value='http://crl.pki.goog/gtsr1/gtsr1.crl')>], relative_name=None, reasons=None, crl_issuer=None)>])>\n",
      "     - certificatePolicies <CertificatePolicies([<PolicyInformation(policy_identifier=<ObjectIdentifier(oid=1.3.6.1.4.1.11129.2.5.3, name=Unknown OID)>, policy_qualifiers=['https://pki.goog/repository/'])>, <PolicyInformation(policy_identifier=<ObjectIdentifier(oid=2.23.140.1.2.1, name=Unknown OID)>, policy_qualifiers=None)>, <PolicyInformation(policy_identifier=<ObjectIdentifier(oid=2.23.140.1.2.2, name=Unknown OID)>, policy_qualifiers=None)>])>\n",
      "\n",
      "\n",
      "Certificate details:\n",
      "       Issuer CN=GlobalSign Root CA,OU=Root CA,O=GlobalSign nv-sa,C=BE\n",
      "      Subject CN=GTS Root R1,O=Google Trust Services LLC,C=US\n",
      "        Until 2028-01-28 00:00:42\n",
      "       Serial 159159747900478145820483398898491642637\n",
      "         Type <class 'cryptography.hazmat.backends.openssl.rsa._RSAPublicKey'>\n",
      "   Extensions\n",
      "     - keyUsage <KeyUsage(digital_signature=True, content_commitment=False, key_encipherment=False, data_encipherment=False, key_agreement=False, key_cert_sign=True, crl_sign=True, encipher_only=False, decipher_only=False)>\n",
      "     - basicConstraints <BasicConstraints(ca=True, path_length=None)>\n",
      "     - subjectKeyIdentifier <SubjectKeyIdentifier(digest=b\"\\xe4\\xaf+&q\\x1a+H'\\x85/Rf,\\xef\\xf0\\x89\\x13q>\")>\n",
      "     - authorityKeyIdentifier <AuthorityKeyIdentifier(key_identifier=b'`{f\\x1aE\\r\\x97\\xca\\x89P/}\\x04\\xcd4\\xa8\\xff\\xfc\\xfdK', authority_cert_issuer=None, authority_cert_serial_number=None)>\n",
      "     - authorityInfoAccess <AuthorityInformationAccess([<AccessDescription(access_method=<ObjectIdentifier(oid=1.3.6.1.5.5.7.48.1, name=OCSP)>, access_location=<UniformResourceIdentifier(value='http://ocsp.pki.goog/gsr1')>)>, <AccessDescription(access_method=<ObjectIdentifier(oid=1.3.6.1.5.5.7.48.2, name=caIssuers)>, access_location=<UniformResourceIdentifier(value='http://pki.goog/gsr1/gsr1.crt')>)>])>\n",
      "     - cRLDistributionPoints <CRLDistributionPoints([<DistributionPoint(full_name=[<UniformResourceIdentifier(value='http://crl.pki.goog/gsr1/gsr1.crl')>], relative_name=None, reasons=None, crl_issuer=None)>])>\n",
      "     - certificatePolicies <CertificatePolicies([<PolicyInformation(policy_identifier=<ObjectIdentifier(oid=2.23.140.1.2.1, name=Unknown OID)>, policy_qualifiers=None)>, <PolicyInformation(policy_identifier=<ObjectIdentifier(oid=2.23.140.1.2.2, name=Unknown OID)>, policy_qualifiers=None)>, <PolicyInformation(policy_identifier=<ObjectIdentifier(oid=1.3.6.1.4.1.11129.2.5.3.2, name=Unknown OID)>, policy_qualifiers=None)>, <PolicyInformation(policy_identifier=<ObjectIdentifier(oid=1.3.6.1.4.1.11129.2.5.3.3, name=Unknown OID)>, policy_qualifiers=None)>])>\n",
      "\n",
      "\n"
     ]
    }
   ],
   "source": [
    "from cryptography import x509\n",
    "from cryptography.hazmat.primitives.asymmetric import rsa\n",
    "\n",
    "with open('google.pem', 'rb') as file:\n",
    "    certs = x509.load_pem_x509_certificates(file.read())\n",
    "\n",
    "for cert in certs:\n",
    "    print(\"Certificate details:\")\n",
    "    print(\"       Issuer\", cert.issuer.rfc4514_string())\n",
    "    print(\"      Subject\", cert.subject.rfc4514_string())\n",
    "    print(\"        Until\", cert.not_valid_after)\n",
    "    print(\"       Serial\", cert.serial_number)\n",
    "    print(\"         Type\", type(public_key))\n",
    "    print(\"   Extensions\")\n",
    "    for ext in cert.extensions:\n",
    "        print(\"     -\", ext.oid._name, ext.value)\n",
    "    print(\"\\n\")"
   ]
  },
  {
   "cell_type": "code",
   "execution_count": null,
   "metadata": {},
   "outputs": [],
   "source": []
  }
 ],
 "metadata": {
  "kernelspec": {
   "display_name": "vch",
   "language": "python",
   "name": "python3"
  },
  "language_info": {
   "codemirror_mode": {
    "name": "ipython",
    "version": 3
   },
   "file_extension": ".py",
   "mimetype": "text/x-python",
   "name": "python",
   "nbconvert_exporter": "python",
   "pygments_lexer": "ipython3",
   "version": "3.10.8"
  },
  "orig_nbformat": 4
 },
 "nbformat": 4,
 "nbformat_minor": 2
}
